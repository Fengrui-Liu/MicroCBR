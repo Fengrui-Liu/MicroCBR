{
 "cells": [
  {
   "cell_type": "markdown",
   "metadata": {},
   "source": [
    "This file shows how to generate chaos experiment yaml file for different pods.  "
   ]
  },
  {
   "cell_type": "code",
   "execution_count": null,
   "metadata": {},
   "outputs": [],
   "source": [
    "%load_ext autoreload\n",
    "%autoreload \n",
    "import sys\n",
    "sys.path.append(\"../dev\")\n",
    "\n",
    "from prometheus import Prometheus_Client\n",
    "from chaos_generate import Chaos_Generate"
   ]
  },
  {
   "cell_type": "markdown",
   "metadata": {},
   "source": [
    "Load chaos experiment from a template"
   ]
  },
  {
   "cell_type": "code",
   "execution_count": null,
   "metadata": {},
   "outputs": [],
   "source": [
    "f_path = \"./templates/Serial/network-delay-target-serial.yaml\"\n",
    "chaos_g = Chaos_Generate()\n",
    "chaos_g.load_template(f_path)"
   ]
  },
  {
   "cell_type": "markdown",
   "metadata": {},
   "source": [
    "Init Prometheus Client and get pods from a customize namespace"
   ]
  },
  {
   "cell_type": "code",
   "execution_count": null,
   "metadata": {},
   "outputs": [],
   "source": [
    "prom = Prometheus_Client(url=\"http://localhost:9092\")\n",
    "namespace = 'default'\n",
    "pods = prom.get_pod_names(namespace=namespace)\n",
    "pods = [x for x in pods if not x.startswith(\"otelcollector\") and not x.startswith(\"jaeger\")]\n",
    "# pods = ['adservice-fb99bd4bc-d5r4v']"
   ]
  },
  {
   "cell_type": "markdown",
   "metadata": {},
   "source": [
    "Clear an existing experiment(optional) and generate chaos by pod"
   ]
  },
  {
   "cell_type": "code",
   "execution_count": null,
   "metadata": {},
   "outputs": [],
   "source": [
    "# chaos_g.clear_experiments(namespace=namespace, pods=pods)\n",
    "chaos_g.generate_by_pods(namespace, pods, types=\"Serial\")"
   ]
  },
  {
   "cell_type": "markdown",
   "metadata": {},
   "source": [
    "Show chaos experiment template"
   ]
  },
  {
   "cell_type": "code",
   "execution_count": null,
   "metadata": {},
   "outputs": [],
   "source": [
    "chaos_g.template"
   ]
  }
 ],
 "metadata": {
  "interpreter": {
   "hash": "4eae08ff26a32db95cc2d664d055c2b6cbb2327301122bcd6fa7215c1651b7b3"
  },
  "kernelspec": {
   "display_name": "Python 3.9.7 ('cbr')",
   "language": "python",
   "name": "python3"
  },
  "language_info": {
   "codemirror_mode": {
    "name": "ipython",
    "version": 3
   },
   "file_extension": ".py",
   "mimetype": "text/x-python",
   "name": "python",
   "nbconvert_exporter": "python",
   "pygments_lexer": "ipython3",
   "version": "3.9.7"
  },
  "orig_nbformat": 4
 },
 "nbformat": 4,
 "nbformat_minor": 2
}
