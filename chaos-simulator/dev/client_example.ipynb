{
 "cells": [
  {
   "cell_type": "markdown",
   "metadata": {},
   "source": [
    "# Prometheus"
   ]
  },
  {
   "cell_type": "code",
   "execution_count": null,
   "metadata": {},
   "outputs": [],
   "source": [
    "%load_ext autoreload\n",
    "%autoreload 2\n",
    "\n",
    "from prometheus import Prometheus_Client\n",
    "from chaos import Chaos\n",
    "import dateparser\n",
    "import pytz\n",
    "import yaml"
   ]
  },
  {
   "cell_type": "code",
   "execution_count": null,
   "metadata": {},
   "outputs": [],
   "source": [
    "prom = Prometheus_Client(url=\"http://localhost:9092\")\n",
    "namespace = 'default'\n",
    "pods = prom.get_pod_names(namespace=namespace)\n",
    "pods = [x for x in pods if not x.startswith(\"otelcollector\") and not x.startswith(\"jaeger\")]\n",
    "pods\n",
    "# prom.get_instance(type=\"mysql\")"
   ]
  },
  {
   "cell_type": "code",
   "execution_count": null,
   "metadata": {},
   "outputs": [],
   "source": [
    "pod = pods[0]\n",
    "print(pod)\n",
    "chaos = Chaos()\n",
    "# chaos.delete()\n",
    "experiment = \"network-delay-target-serial\"\n",
    "template_path= \"../chaos_experiment/templates/Serial/{}.yaml\".format(experiment)\n",
    "chaos_path = \"../chaos_experiment/experiments/Serial/{}-{}-{}.yaml\".format(experiment,namespace,pod)\n",
    "chaos.load(template_path)\n",
    "chaos.execute(f_path=chaos_path,namespace=namespace)\n",
    "# chaos_stats = chaos.status(kind='NetworkChaos',name='network-delay-serial',namespace=namespace)\n"
   ]
  },
  {
   "cell_type": "code",
   "execution_count": null,
   "metadata": {},
   "outputs": [],
   "source": [
    "query_f_path = \"./test.txt\"\n",
    "# start_time = parse_datetime(\"10min\")\n",
    "# end_time = parse_datetime(\"now\")\n",
    "tz = \"Asia/Shanghai\"\n",
    "\n",
    "chaos_creation_time = chaos.creation_time.astimezone(pytz.timezone(tz))\n",
    "print(chaos_creation_time)\n",
    "start_time = dateparser.parse(\"5 min ago\",settings={\"RELATIVE_BASE\":chaos_creation_time})\n",
    "chaos_endtime = dateparser.parse(\"in %s\" % (chaos.duration),settings={\"RELATIVE_BASE\":chaos_creation_time})\n",
    "print(chaos_endtime)\n",
    "end_time = dateparser.parse(\"in 5 min\",settings={\"RELATIVE_BASE\":chaos_endtime})\n",
    "\n",
    "step = str(60 * 0.5)  # 60 * 20  20 minutes"
   ]
  },
  {
   "cell_type": "code",
   "execution_count": null,
   "metadata": {},
   "outputs": [],
   "source": [
    "f = open('../config/METRIC.yaml')\n",
    "data = f.read()\n",
    "f.close()\n",
    "queries = yaml.safe_load(data)"
   ]
  },
  {
   "cell_type": "code",
   "execution_count": null,
   "metadata": {},
   "outputs": [],
   "source": [
    "# query_type = 'standard'\n",
    "query_type = 'custom'\n",
    "metric_type = 'icmp'\n",
    "query = queries[query_type][metric_type][0]['query']\n",
    "idx = queries[query_type][metric_type][0]['index']"
   ]
  },
  {
   "cell_type": "code",
   "execution_count": null,
   "metadata": {},
   "outputs": [],
   "source": [
    "if query_type == 'standard':\n",
    "    query= query.replace(\"$namespace\", namespace).replace(\"$pod\", pod)\n",
    "elif query_type == 'custom':\n",
    "    if metric_type == 'icmp':\n",
    "        query = query.replace(\"$pod\", pod.split('-')[0] + '-icmp')\n",
    "\n",
    "query"
   ]
  },
  {
   "cell_type": "code",
   "execution_count": null,
   "metadata": {},
   "outputs": [],
   "source": [
    "metric = prom.query_metric(\n",
    "                query,\n",
    "                idx,\n",
    "                start_time=start_time,\n",
    "                end_time=end_time,\n",
    "                step=step,\n",
    "                namespace=namespace,\n",
    "                pod=pod,\n",
    "                chaos=chaos,\n",
    "                save=True,\n",
    "            )"
   ]
  },
  {
   "cell_type": "code",
   "execution_count": null,
   "metadata": {},
   "outputs": [],
   "source": [
    "prom.plot_metric(chaos=chaos,namespace=namespace,pod=pod,idx=idx,tz=tz)"
   ]
  },
  {
   "cell_type": "markdown",
   "metadata": {},
   "source": [
    "# Jaeger"
   ]
  },
  {
   "cell_type": "code",
   "execution_count": null,
   "metadata": {},
   "outputs": [],
   "source": [
    "%load_ext autoreload\n",
    "%autoreload 2\n",
    "from jaeger import Jaeger_Client\n",
    "\n",
    "jaeger = Jaeger_Client(url=\"http://localhost:16680\")"
   ]
  },
  {
   "cell_type": "code",
   "execution_count": null,
   "metadata": {},
   "outputs": [],
   "source": [
    "jaeger.write_traces_all(service=\"adservice\")\n",
    "jaeger.get_traces(service=\"adservice\", limit=5)"
   ]
  }
 ],
 "metadata": {
  "interpreter": {
   "hash": "4eae08ff26a32db95cc2d664d055c2b6cbb2327301122bcd6fa7215c1651b7b3"
  },
  "kernelspec": {
   "display_name": "Python 3.10.0 64-bit ('cbr': conda)",
   "language": "python",
   "name": "python3"
  },
  "language_info": {
   "codemirror_mode": {
    "name": "ipython",
    "version": 3
   },
   "file_extension": ".py",
   "mimetype": "text/x-python",
   "name": "python",
   "nbconvert_exporter": "python",
   "pygments_lexer": "ipython3",
   "version": "3.9.7"
  },
  "orig_nbformat": 4
 },
 "nbformat": 4,
 "nbformat_minor": 2
}
