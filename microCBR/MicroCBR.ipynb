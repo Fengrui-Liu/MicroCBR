{
 "cells": [
  {
   "cell_type": "markdown",
   "metadata": {},
   "source": [
    "Generate KB's attributes, We have already finished this step."
   ]
  },
  {
   "cell_type": "code",
   "execution_count": null,
   "metadata": {},
   "outputs": [],
   "source": [
    "# %load_ext autoreload\n",
    "# %autoreload 2\n",
    "# import sys\n",
    "# sys.path.append('../../chaos-simulator/')\n",
    "# # sys.path.append('../../chaos-simulator')\n",
    "\n",
    "# from util import generateKB_from_chaos,saveKB_to_file\n",
    "\n",
    "# chaos_data_dir = \"../../chaos-simulator/chaos_experiment/data/\"\n",
    "# chaos_management_file = \"../../chaos-simulator/dev/CHAOS.yaml\"\n",
    "# kb = generateKB_from_chaos(chaos_data_dir, chaos_management_file)\n",
    "# kb_path ='./KNOWLEDGE_BASE.yaml'\n",
    "# saveKB_to_file(kb, kb_path)"
   ]
  },
  {
   "cell_type": "markdown",
   "metadata": {},
   "source": [
    "Calculate the weight of fingerprints"
   ]
  },
  {
   "cell_type": "code",
   "execution_count": null,
   "metadata": {},
   "outputs": [],
   "source": [
    "%load_ext autoreload\n",
    "%autoreload 2\n",
    "from kb import KB"
   ]
  },
  {
   "cell_type": "code",
   "execution_count": null,
   "metadata": {},
   "outputs": [],
   "source": [
    "kb_path = '../chaos-simulator/config/KNOWLEDGE_BASE.yaml'\n",
    "kb = KB()\n",
    "kb_data = kb.load(kb_path)"
   ]
  },
  {
   "cell_type": "markdown",
   "metadata": {},
   "source": [
    "Reasoning on a test case"
   ]
  },
  {
   "cell_type": "code",
   "execution_count": null,
   "metadata": {},
   "outputs": [],
   "source": [
    "%load_ext autoreload\n",
    "%autoreload 2\n",
    "from reasoning import Reasoner\n"
   ]
  },
  {
   "cell_type": "code",
   "execution_count": null,
   "metadata": {},
   "outputs": [],
   "source": [
    "target_fingerprint_path = \"./fingerprint.yaml\"\n",
    "# target_fingerprint_path = './fingerprint.yaml'\n",
    "reasoner = Reasoner(kb)\n",
    "reasoner.load_fingerprint(target_fingerprint_path)\n",
    "reasoner.reasoning() "
   ]
  },
  {
   "cell_type": "code",
   "execution_count": null,
   "metadata": {},
   "outputs": [],
   "source": [
    "reasoner.type_scores"
   ]
  },
  {
   "cell_type": "code",
   "execution_count": null,
   "metadata": {},
   "outputs": [],
   "source": [
    "reasoner.case_scores"
   ]
  }
 ],
 "metadata": {
  "interpreter": {
   "hash": "4eae08ff26a32db95cc2d664d055c2b6cbb2327301122bcd6fa7215c1651b7b3"
  },
  "kernelspec": {
   "display_name": "Python 3.9.7 ('cbr')",
   "language": "python",
   "name": "python3"
  },
  "language_info": {
   "codemirror_mode": {
    "name": "ipython",
    "version": 3
   },
   "file_extension": ".py",
   "mimetype": "text/x-python",
   "name": "python",
   "nbconvert_exporter": "python",
   "pygments_lexer": "ipython3",
   "version": "3.9.12"
  },
  "orig_nbformat": 4
 },
 "nbformat": 4,
 "nbformat_minor": 2
}
